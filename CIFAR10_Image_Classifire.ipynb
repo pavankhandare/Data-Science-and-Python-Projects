{
 "cells": [
  {
   "cell_type": "code",
   "execution_count": 5,
   "id": "73a25d97",
   "metadata": {},
   "outputs": [],
   "source": [
    "from tensorflow.keras import datasets, models, layers"
   ]
  },
  {
   "cell_type": "code",
   "execution_count": 6,
   "id": "a320988f",
   "metadata": {},
   "outputs": [],
   "source": [
    "import numpy as np\n",
    "import cv2 as cv\n",
    "import matplotlib.pyplot as plt"
   ]
  },
  {
   "cell_type": "code",
   "execution_count": 7,
   "id": "5efab0b6",
   "metadata": {},
   "outputs": [],
   "source": [
    "(train_img,train_label),(test_img,test_label) = datasets.cifar10.load_data()"
   ]
  },
  {
   "cell_type": "code",
   "execution_count": 11,
   "id": "e4c78b54",
   "metadata": {},
   "outputs": [
    {
     "data": {
      "text/plain": [
       "<matplotlib.image.AxesImage at 0x22db4942f20>"
      ]
     },
     "execution_count": 11,
     "metadata": {},
     "output_type": "execute_result"
    },
    {
     "data": {
      "image/png": "[encoded data removed]",
      "text/plain": [
       "<Figure size 640x480 with 1 Axes>"
      ]
     },
     "metadata": {},
     "output_type": "display_data"
    }
   ],
   "source": [
    "plt.imshow(train_img[4])"
   ]
  },
  {
   "cell_type": "code",
   "execution_count": 10,
   "id": "bda6c899",
   "metadata": {},
   "outputs": [
    {
     "name": "stdout",
     "output_type": "stream",
     "text": [
      "[1]\n"
     ]
    }
   ],
   "source": [
    "print(train_label[4])"
   ]
  },
  {
   "cell_type": "code",
   "execution_count": 13,
   "id": "b6699c39",
   "metadata": {},
   "outputs": [],
   "source": [
    "classes = [\"airplane\",\"car\",\"bird\",\"cat\",\"deer\",\"dog\",\"frog\",\"horse\",\"ship\",\"truck\"]"
   ]
  },
  {
   "cell_type": "code",
   "execution_count": 18,
   "id": "d941277c",
   "metadata": {},
   "outputs": [],
   "source": [
    "train_img = train_img/255\n",
    "test_img = test_img/255"
   ]
  },
  {
   "cell_type": "code",
   "execution_count": 19,
   "id": "e4f24e23",
   "metadata": {},
   "outputs": [],
   "source": [
    "model = models.Sequential()"
   ]
  },
  {
   "cell_type": "code",
   "execution_count": 20,
   "id": "ec0f5fc5",
   "metadata": {},
   "outputs": [],
   "source": [
    "model.add(layers.Conv2D(32,(3,3),activation='relu',input_shape=(32,32,3)))\n",
    "model.add(layers.MaxPool2D((2,2)))\n",
    "model.add(layers.Conv2D(64,(3,3),activation='relu'))\n",
    "model.add(layers.MaxPool2D((2,2)))\n",
    "model.add(layers.Conv2D(64,(3,3),activation='relu'))\n",
    "model.add(layers.Flatten())\n",
    "model.add(layers.Dense(64,activation='relu'))\n",
    "model.add(layers.Dense(64,activation='softmax'))"
   ]
  },
  {
   "cell_type": "code",
   "execution_count": 21,
   "id": "55eb1b2f",
   "metadata": {},
   "outputs": [],
   "source": [
    "model.compile(optimizer='adam',loss='sparse_categorical_crossentropy',metrics=['accuracy'])"
   ]
  },
  {
   "cell_type": "code",
   "execution_count": 22,
   "id": "4fe671cb",
   "metadata": {},
   "outputs": [
    {
     "name": "stdout",
     "output_type": "stream",
     "text": [
      "Epoch 1/10\n",
      "1563/1563 [==============================] - 59s 38ms/step - loss: 1.6149 - accuracy: 0.4180 - val_loss: 1.3381 - val_accuracy: 0.5177\n",
      "Epoch 2/10\n",
      "1563/1563 [==============================] - 61s 39ms/step - loss: 1.2430 - accuracy: 0.5584 - val_loss: 1.2332 - val_accuracy: 0.5589\n",
      "Epoch 3/10\n",
      "1563/1563 [==============================] - 63s 40ms/step - loss: 1.0790 - accuracy: 0.6206 - val_loss: 1.0481 - val_accuracy: 0.6240\n",
      "Epoch 4/10\n",
      "1563/1563 [==============================] - 64s 41ms/step - loss: 0.9793 - accuracy: 0.6551 - val_loss: 0.9738 - val_accuracy: 0.6615\n",
      "Epoch 5/10\n",
      "1563/1563 [==============================] - 67s 43ms/step - loss: 0.9063 - accuracy: 0.6840 - val_loss: 0.9444 - val_accuracy: 0.6693\n",
      "Epoch 6/10\n",
      "1563/1563 [==============================] - 67s 43ms/step - loss: 0.8524 - accuracy: 0.7012 - val_loss: 1.0496 - val_accuracy: 0.6395\n",
      "Epoch 7/10\n",
      "1563/1563 [==============================] - 83s 53ms/step - loss: 0.8046 - accuracy: 0.7194 - val_loss: 0.8773 - val_accuracy: 0.6969\n",
      "Epoch 8/10\n",
      "1563/1563 [==============================] - 84s 54ms/step - loss: 0.7632 - accuracy: 0.7330 - val_loss: 0.8780 - val_accuracy: 0.6968\n",
      "Epoch 9/10\n",
      "1563/1563 [==============================] - 89s 57ms/step - loss: 0.7298 - accuracy: 0.7445 - val_loss: 0.9321 - val_accuracy: 0.6763\n",
      "Epoch 10/10\n",
      "1563/1563 [==============================] - 89s 57ms/step - loss: 0.7027 - accuracy: 0.7535 - val_loss: 0.8487 - val_accuracy: 0.7077\n"
     ]
    },
    {
     "data": {
      "text/plain": [
       "<keras.callbacks.History at 0x22db50e1b40>"
      ]
     },
     "execution_count": 22,
     "metadata": {},
     "output_type": "execute_result"
    }
   ],
   "source": [
    "model.fit(train_img,train_label,epochs=10,validation_data=(test_img,test_label))"
   ]
  },
  {
   "cell_type": "code",
   "execution_count": 23,
   "id": "7087cd88",
   "metadata": {},
   "outputs": [
    {
     "name": "stdout",
     "output_type": "stream",
     "text": [
      "313/313 [==============================] - 4s 13ms/step - loss: 0.8487 - accuracy: 0.7077\n",
      "Loss : 0.84869384765625\n",
      "accuracy : 0.7077000141143799\n"
     ]
    }
   ],
   "source": [
    "loss, accuracy = model.evaluate(test_img,test_label)\n",
    "print(f\"Loss : {loss}\")\n",
    "print(f\"accuracy : {accuracy}\")"
   ]
  },
  {
   "cell_type": "code",
   "execution_count": 25,
   "id": "45b4d3d0",
   "metadata": {},
   "outputs": [
    {
     "name": "stderr",
     "output_type": "stream",
     "text": [
      "WARNING:absl:Found untraced functions such as _jit_compiled_convolution_op, _jit_compiled_convolution_op, _jit_compiled_convolution_op while saving (showing 3 of 3). These functions will not be directly callable after loading.\n"
     ]
    },
    {
     "name": "stdout",
     "output_type": "stream",
     "text": [
      "INFO:tensorflow:Assets written to: CIFAR10_Image_Classifire.model\\assets\n"
     ]
    },
    {
     "name": "stderr",
     "output_type": "stream",
     "text": [
      "INFO:tensorflow:Assets written to: CIFAR10_Image_Classifire.model\\assets\n"
     ]
    }
   ],
   "source": [
    "model.save(\"CIFAR10_Image_Classifire.model\")"
   ]
  },
  {
   "cell_type": "code",
   "execution_count": 26,
   "id": "a318f2f4",
   "metadata": {},
   "outputs": [],
   "source": [
    "model = models.load_model(\"CIFAR10_Image_Classifire.model/\")"
   ]
  },
  {
   "cell_type": "code",
   "execution_count": 37,
   "id": "8ffcbabf",
   "metadata": {},
   "outputs": [],
   "source": [
    "img = cv.imread('car.jpg')\n",
    "img = cv.cvtColor(img, cv.COLOR_BGR2RGB)"
   ]
  },
  {
   "cell_type": "code",
   "execution_count": 38,
   "id": "243b3293",
   "metadata": {},
   "outputs": [
    {
     "data": {
      "text/plain": [
       "<matplotlib.image.AxesImage at 0x22db52dc040>"
      ]
     },
     "execution_count": 38,
     "metadata": {},
     "output_type": "execute_result"
    },
    {
     "data": {
      "image/png": "[encoded data removed]",
      "text/plain": [
       "<Figure size 640x480 with 1 Axes>"
      ]
     },
     "metadata": {},
     "output_type": "display_data"
    }
   ],
   "source": [
    "plt.imshow(img, cmap=plt.cm.binary)"
   ]
  },
  {
   "cell_type": "code",
   "execution_count": 39,
   "id": "1c13defe",
   "metadata": {},
   "outputs": [
    {
     "name": "stdout",
     "output_type": "stream",
     "text": [
      "1/1 [==============================] - 0s 31ms/step\n"
     ]
    }
   ],
   "source": [
    "prediction = model.predict(np.array([img])/255)"
   ]
  },
  {
   "cell_type": "code",
   "execution_count": 40,
   "id": "0915fc2b",
   "metadata": {},
   "outputs": [],
   "source": [
    "index = np.argmax(prediction)"
   ]
  },
  {
   "cell_type": "code",
   "execution_count": 41,
   "id": "35713e9c",
   "metadata": {},
   "outputs": [
    {
     "name": "stdout",
     "output_type": "stream",
     "text": [
      "Image class : car\n"
     ]
    }
   ],
   "source": [
    "print(f\"Image class : {classes[index]}\")"
   ]
  },
  {
   "cell_type": "code",
   "execution_count": null,
   "id": "104117f5",
   "metadata": {},
   "outputs": [],
   "source": []
  }
 ],
 "metadata": {
  "kernelspec": {
   "display_name": "Python 3 (ipykernel)",
   "language": "python",
   "name": "python3"
  },
  "language_info": {
   "codemirror_mode": {
    "name": "ipython",
    "version": 3
   },
   "file_extension": ".py",
   "mimetype": "text/x-python",
   "name": "python",
   "nbconvert_exporter": "python",
   "pygments_lexer": "ipython3",
   "version": "3.10.2"
  }
 },
 "nbformat": 4,
 "nbformat_minor": 5
}
