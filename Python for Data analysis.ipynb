{
 "cells": [
  {
   "cell_type": "code",
   "execution_count": 11,
   "metadata": {},
   "outputs": [
    {
     "name": "stdout",
     "output_type": "stream",
     "text": [
      "Please enter age : 80\n",
      "Fees is 10$\n"
     ]
    }
   ],
   "source": [
    "age = int(input(\"Please enter age : \"))\n",
    "if age <= 5 and age > 1:\n",
    "    print(\"No Fees\")\n",
    "elif age > 5 and age < 80:\n",
    "    print(\"Fees is 15$\")\n",
    "elif age >= 80:\n",
    "    print(\"Fees is 10$\")\n",
    "else:\n",
    "    print(\"Please enter valid input...!\")"
   ]
  },
  {
   "cell_type": "code",
   "execution_count": 14,
   "metadata": {},
   "outputs": [
    {
     "name": "stdout",
     "output_type": "stream",
     "text": [
      "Please enter number : 0\n",
      "Zero\n"
     ]
    }
   ],
   "source": [
    "number = int(input(\"Please enter number : \"))\n",
    "if number > 0:\n",
    "    print(\"Positive Number\")\n",
    "elif number < 0:\n",
    "    print(\"Negative Number\")\n",
    "else:\n",
    "    print(\"Zero\")"
   ]
  },
  {
   "cell_type": "code",
   "execution_count": 33,
   "metadata": {},
   "outputs": [
    {
     "name": "stdout",
     "output_type": "stream",
     "text": [
      "Please enter unit : 1585\n",
      "Bill =  14350\n"
     ]
    }
   ],
   "source": [
    "# Calculating bill amount \n",
    "unit = int(input(\"Please enter unit : \"))\n",
    "charges = 0\n",
    "if unit <= 100 and unit > 0:\n",
    "    charges = 0\n",
    "    print(\"No charges\")\n",
    "elif unit > 100 and unit <= 200:\n",
    "    charges = (unit-100)*5\n",
    "    print(\"Bill = \",charges)\n",
    "elif unit > 200:\n",
    "    charges = 500+ (unit-200)*10\n",
    "    print(\"Bill = \",charges)\n",
    "else:\n",
    "    print(\"Wrong input\")"
   ]
  },
  {
   "cell_type": "code",
   "execution_count": 39,
   "metadata": {},
   "outputs": [
    {
     "name": "stdout",
     "output_type": "stream",
     "text": [
      "Enter number 40\n",
      "820.0\n"
     ]
    }
   ],
   "source": [
    "i = int(input(\"Enter number \"))\n",
    "sum = (i*(i+1))/2\n",
    "print(sum)"
   ]
  },
  {
   "cell_type": "code",
   "execution_count": 40,
   "metadata": {},
   "outputs": [],
   "source": [
    "import numpy as np"
   ]
  },
  {
   "cell_type": "code",
   "execution_count": 42,
   "metadata": {},
   "outputs": [
    {
     "data": {
      "text/plain": [
       "array([0, 1, 2, 3, 4, 5, 6, 7, 8, 9])"
      ]
     },
     "execution_count": 42,
     "metadata": {},
     "output_type": "execute_result"
    }
   ],
   "source": [
    "a = np.arange(10)\n",
    "a"
   ]
  },
  {
   "cell_type": "code",
   "execution_count": 46,
   "metadata": {},
   "outputs": [
    {
     "name": "stdout",
     "output_type": "stream",
     "text": [
      "Please enter number : 10\n",
      "55\n"
     ]
    }
   ],
   "source": [
    "#sum of n number\n",
    "b = int(input(\"Please enter number : \"))\n",
    "a = np.arange(b+1)\n",
    "s = 0\n",
    "for i in a:\n",
    "    s = s + i\n",
    "print(s)"
   ]
  },
  {
   "cell_type": "code",
   "execution_count": 53,
   "metadata": {},
   "outputs": [
    {
     "name": "stdout",
     "output_type": "stream",
     "text": [
      "Please enter number : 140\n",
      "13462012475717524605876073858941615558355851148193967190051391468057460367090535696797920946629681836680869097041958983702264048370902871114013579941370766400374327741701139895604871545254810788060989321379840000000000000000000000000000000000\n"
     ]
    }
   ],
   "source": [
    "#factorial\n",
    "b = int(input(\"Please enter number : \"))\n",
    "fact = 1\n",
    "for i in range(1,b+1):\n",
    "    fact = fact * i\n",
    "print(fact)"
   ]
  },
  {
   "cell_type": "code",
   "execution_count": 54,
   "metadata": {},
   "outputs": [
    {
     "name": "stdout",
     "output_type": "stream",
     "text": [
      "Please enter number : 140\n"
     ]
    },
    {
     "data": {
      "text/plain": [
       "13462012475717524605876073858941615558355851148193967190051391468057460367090535696797920946629681836680869097041958983702264048370902871114013579941370766400374327741701139895604871545254810788060989321379840000000000000000000000000000000000"
      ]
     },
     "execution_count": 54,
     "metadata": {},
     "output_type": "execute_result"
    }
   ],
   "source": [
    "import math\n",
    "def fact(n):\n",
    "    return(math.factorial(n))\n",
    "num = int(input(\"Please enter number : \"))\n",
    "fact(num)"
   ]
  },
  {
   "cell_type": "code",
   "execution_count": 56,
   "metadata": {},
   "outputs": [
    {
     "name": "stdout",
     "output_type": "stream",
     "text": [
      "15\n",
      "25\n",
      "845\n",
      "545\n"
     ]
    }
   ],
   "source": [
    "list1 = [15,25,14,94,845,54,78,652,654,545]\n",
    "for i in list1:\n",
    "    if(i%5==0):\n",
    "        print(i)"
   ]
  },
  {
   "cell_type": "code",
   "execution_count": 57,
   "metadata": {},
   "outputs": [
    {
     "name": "stdout",
     "output_type": "stream",
     "text": [
      "30\n",
      "50\n",
      "28\n",
      "188\n",
      "1690\n",
      "108\n",
      "156\n",
      "1304\n",
      "1308\n",
      "1090\n"
     ]
    }
   ],
   "source": [
    "list1 = [15,25,14,94,845,54,78,652,654,545]\n",
    "for i in list1:\n",
    "    s = i*2\n",
    "    print(s)"
   ]
  },
  {
   "cell_type": "code",
   "execution_count": 61,
   "metadata": {},
   "outputs": [
    {
     "data": {
      "text/plain": [
       "[1, 2, 3, 4, 5]"
      ]
     },
     "execution_count": 61,
     "metadata": {},
     "output_type": "execute_result"
    }
   ],
   "source": [
    "a = list(range(1,6))\n",
    "a"
   ]
  },
  {
   "cell_type": "code",
   "execution_count": 64,
   "metadata": {},
   "outputs": [
    {
     "name": "stdout",
     "output_type": "stream",
     "text": [
      "Please enter number : 5\n",
      "120\n"
     ]
    }
   ],
   "source": [
    "#factorial of number\n",
    "b = int(input(\"Please enter number : \"))\n",
    "#a = list(range(1,b+1))\n",
    "s = 1\n",
    "for i in range(1,b+1):\n",
    "    s = s * i\n",
    "print(s)"
   ]
  },
  {
   "cell_type": "code",
   "execution_count": 66,
   "metadata": {},
   "outputs": [
    {
     "data": {
      "text/plain": [
       "[2, 4, 6, 8]"
      ]
     },
     "execution_count": 66,
     "metadata": {},
     "output_type": "execute_result"
    }
   ],
   "source": [
    "list(range(2,10,2)) #start, stop and step"
   ]
  },
  {
   "cell_type": "code",
   "execution_count": 69,
   "metadata": {},
   "outputs": [
    {
     "name": "stdout",
     "output_type": "stream",
     "text": [
      "python 6\n",
      "java 4\n",
      "ruby 4\n",
      "mysql 5\n"
     ]
    }
   ],
   "source": [
    "a = [\"python\",\"java\",\"ruby\",\"mysql\"]\n",
    "for i in range(len(a)):\n",
    "    print(a[i] , len(a[i]))"
   ]
  },
  {
   "cell_type": "code",
   "execution_count": 78,
   "metadata": {},
   "outputs": [],
   "source": [
    "a = \"python5464\""
   ]
  },
  {
   "cell_type": "code",
   "execution_count": 79,
   "metadata": {},
   "outputs": [
    {
     "data": {
      "text/plain": [
       "True"
      ]
     },
     "execution_count": 79,
     "metadata": {},
     "output_type": "execute_result"
    }
   ],
   "source": [
    "a[2].isalpha()"
   ]
  },
  {
   "cell_type": "code",
   "execution_count": 80,
   "metadata": {},
   "outputs": [
    {
     "data": {
      "text/plain": [
       "True"
      ]
     },
     "execution_count": 80,
     "metadata": {},
     "output_type": "execute_result"
    }
   ],
   "source": [
    "a[8].isdigit()"
   ]
  },
  {
   "cell_type": "code",
   "execution_count": 84,
   "metadata": {},
   "outputs": [
    {
     "name": "stdout",
     "output_type": "stream",
     "text": [
      "Letters 10\n",
      "Digits 10\n"
     ]
    }
   ],
   "source": [
    "letter = 0\n",
    "digit = 0\n",
    "a = \"pythonjava4545545545\"\n",
    "for i in range(len(a)):\n",
    "    if a[i].isalpha():\n",
    "        letter = letter + 1\n",
    "    else:\n",
    "        digit = digit + 1\n",
    "print(\"Letters\",letter)\n",
    "print(\"Digits\",digit)"
   ]
  },
  {
   "cell_type": "code",
   "execution_count": 87,
   "metadata": {},
   "outputs": [
    {
     "name": "stdout",
     "output_type": "stream",
     "text": [
      "Letters 10\n",
      "Digits 10\n"
     ]
    }
   ],
   "source": [
    "letter = 0\n",
    "digit = 0\n",
    "a = \"pythonjava4545545545\"\n",
    "for i in a:\n",
    "    if i.isalpha()==True:\n",
    "        letter = letter + 1\n",
    "    else:\n",
    "        digit = digit + 1\n",
    "print(\"Letters\",letter)\n",
    "print(\"Digits\",digit)"
   ]
  },
  {
   "cell_type": "code",
   "execution_count": null,
   "metadata": {},
   "outputs": [],
   "source": []
  }
 ],
 "metadata": {
  "kernelspec": {
   "display_name": "Python 3",
   "language": "python",
   "name": "python3"
  },
  "language_info": {
   "codemirror_mode": {
    "name": "ipython",
    "version": 3
   },
   "file_extension": ".py",
   "mimetype": "text/x-python",
   "name": "python",
   "nbconvert_exporter": "python",
   "pygments_lexer": "ipython3",
   "version": "3.7.6"
  }
 },
 "nbformat": 4,
 "nbformat_minor": 4
}
